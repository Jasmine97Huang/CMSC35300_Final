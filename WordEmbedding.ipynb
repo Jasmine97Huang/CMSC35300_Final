{
 "cells": [
  {
   "cell_type": "code",
   "execution_count": 1,
   "metadata": {},
   "outputs": [],
   "source": [
    "%load_ext autoreload\n",
    "%autoreload 2"
   ]
  },
  {
   "cell_type": "code",
   "execution_count": 6,
   "metadata": {},
   "outputs": [],
   "source": [
    "from embedding import *\n",
    "from preprocessing import *"
   ]
  },
  {
   "cell_type": "code",
   "execution_count": 7,
   "metadata": {},
   "outputs": [],
   "source": [
    "corpus = ['jasmine is a good student', 'just kidding jasmine good is not', 'cashew is bad']"
   ]
  },
  {
   "cell_type": "code",
   "execution_count": 8,
   "metadata": {},
   "outputs": [],
   "source": [
    "co_mat = get_co_mat(corpus)"
   ]
  },
  {
   "cell_type": "code",
   "execution_count": 9,
   "metadata": {},
   "outputs": [],
   "source": [
    "ppmi = pmi(co_mat)"
   ]
  },
  {
   "cell_type": "code",
   "execution_count": 10,
   "metadata": {},
   "outputs": [
    {
     "data": {
      "text/plain": [
       "array([[0.73236789, 0.        , 0.        , 0.14458123, 0.        ,\n",
       "        0.26236426, 0.        , 0.        , 0.        , 1.24319352],\n",
       "       [0.        , 1.75401914, 1.75401914, 0.        , 0.45473616,\n",
       "        0.        , 0.        , 0.        , 0.        , 0.        ],\n",
       "       [0.        , 1.75401914, 1.75401914, 0.        , 0.45473616,\n",
       "        0.        , 0.        , 0.        , 0.        , 0.        ],\n",
       "       [0.14458123, 0.        , 0.        , 0.24994174, 0.04927105,\n",
       "        0.        , 0.        , 0.36772478, 0.65540685, 0.65540685],\n",
       "       [0.        , 0.45473616, 0.45473616, 0.04927105, 0.25406546,\n",
       "        0.16705408, 0.        , 0.        , 0.45473616, 0.        ],\n",
       "       [0.26236426, 0.        , 0.        , 0.        , 0.16705408,\n",
       "        0.48550782, 0.77318989, 0.48550782, 0.        , 0.        ],\n",
       "       [0.        , 0.        , 0.        , 0.        , 0.        ,\n",
       "        0.77318989, 1.75401914, 1.46633707, 0.        , 0.        ],\n",
       "       [0.        , 0.        , 0.        , 0.36772478, 0.        ,\n",
       "        0.48550782, 1.46633707, 1.178655  , 0.        , 0.        ],\n",
       "       [0.        , 0.        , 0.        , 0.65540685, 0.45473616,\n",
       "        0.        , 0.        , 0.        , 1.75401914, 0.        ],\n",
       "       [1.24319352, 0.        , 0.        , 0.65540685, 0.        ,\n",
       "        0.        , 0.        , 0.        , 0.        , 1.75401914]])"
      ]
     },
     "execution_count": 10,
     "metadata": {},
     "output_type": "execute_result"
    }
   ],
   "source": [
    "ppmi"
   ]
  },
  {
   "cell_type": "code",
   "execution_count": null,
   "metadata": {},
   "outputs": [],
   "source": []
  }
 ],
 "metadata": {
  "kernelspec": {
   "display_name": "Python 3",
   "language": "python",
   "name": "python3"
  },
  "language_info": {
   "codemirror_mode": {
    "name": "ipython",
    "version": 3
   },
   "file_extension": ".py",
   "mimetype": "text/x-python",
   "name": "python",
   "nbconvert_exporter": "python",
   "pygments_lexer": "ipython3",
   "version": "3.8.5"
  }
 },
 "nbformat": 4,
 "nbformat_minor": 4
}
