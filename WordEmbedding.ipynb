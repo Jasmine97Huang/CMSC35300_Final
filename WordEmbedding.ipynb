{
 "cells": [
  {
   "cell_type": "code",
   "execution_count": 1,
   "metadata": {},
   "outputs": [],
   "source": [
    "%load_ext autoreload\n",
    "%autoreload 2"
   ]
  },
  {
   "cell_type": "code",
   "execution_count": 39,
   "metadata": {},
   "outputs": [],
   "source": [
    "from embedding import *\n",
    "from preprocessing import *"
   ]
  },
  {
   "cell_type": "code",
   "execution_count": 7,
   "metadata": {},
   "outputs": [],
   "source": [
    "corpus = ['jasmine is a good student', 'just kidding jasmine good is not', 'cashew is bad']"
   ]
  },
  {
   "cell_type": "code",
   "execution_count": 8,
   "metadata": {},
   "outputs": [],
   "source": [
    "co_mat = get_co_mat(corpus)"
   ]
  },
  {
   "cell_type": "code",
   "execution_count": 9,
   "metadata": {},
   "outputs": [],
   "source": [
    "ppmi = pmi(co_mat)"
   ]
  },
  {
   "cell_type": "code",
   "execution_count": 19,
   "metadata": {},
   "outputs": [
    {
     "data": {
      "text/plain": [
       "(10, 10)"
      ]
     },
     "execution_count": 19,
     "metadata": {},
     "output_type": "execute_result"
    }
   ],
   "source": [
    "ppmi.shape"
   ]
  },
  {
   "cell_type": "code",
   "execution_count": 38,
   "metadata": {},
   "outputs": [
    {
     "name": "stdout",
     "output_type": "stream",
     "text": [
      "[[ 7.62092343e-03  1.02626173e-01  4.92979635e-01 -1.77358928e-01\n",
      "   3.66167952e-01  3.63926376e-01  5.61323903e-01  7.90591660e-02\n",
      "  -3.56466587e-01 -7.30797603e-17]\n",
      " [ 6.91819979e-01 -3.49804547e-02 -1.86401944e-02 -6.24378894e-02\n",
      "  -4.94133069e-02 -1.79807716e-02 -3.14402756e-02  5.25321307e-02\n",
      "  -9.69661722e-02  7.07106781e-01]\n",
      " [ 6.91819979e-01 -3.49804547e-02 -1.86401944e-02 -6.24378894e-02\n",
      "  -4.94133069e-02 -1.79807716e-02 -3.14402756e-02  5.25321307e-02\n",
      "  -9.69661722e-02 -7.07106781e-01]\n",
      " [ 1.80739092e-02  1.16445791e-01  2.64835505e-01  2.46933046e-01\n",
      "  -4.12785077e-01  6.37356873e-01 -3.45484787e-01 -3.78977807e-01\n",
      "  -1.24099631e-01 -5.07954986e-17]\n",
      " [ 1.94502935e-01  1.65783125e-02  3.05397503e-02  2.02173854e-01\n",
      "   3.25456548e-01  1.57662583e-01  2.51425515e-01 -3.97848114e-01\n",
      "   7.53531325e-01  1.62518669e-16]\n",
      " [ 2.06962290e-02  3.09258703e-01 -2.37059548e-02 -3.01214506e-02\n",
      "   6.26352308e-01 -1.85657354e-01 -4.64746312e-01 -4.13394043e-01\n",
      "  -2.97979546e-01 -1.03383030e-16]\n",
      " [ 2.57880240e-02  7.15403397e-01 -1.75658579e-01 -4.80639145e-02\n",
      "   7.48172450e-02  2.89528725e-01 -1.52867125e-01  5.33946721e-01\n",
      "   2.37644522e-01  8.18521673e-17]\n",
      " [ 2.21828324e-02  5.87543288e-01 -1.08370828e-01  6.65303130e-03\n",
      "  -3.93594431e-01 -3.43067731e-01  4.41307249e-01 -3.97370786e-01\n",
      "  -1.31318820e-01 -4.33976309e-17]\n",
      " [ 5.32945716e-02  5.45062182e-02  1.85792662e-01  9.01250239e-01\n",
      "   9.87422993e-02 -2.19148949e-01  5.95498074e-02  2.54040436e-01\n",
      "  -1.46829249e-01 -2.31533374e-17]\n",
      " [ 1.13292010e-02  1.32533511e-01  7.79438636e-01 -2.08285709e-01\n",
      "  -1.48804385e-01 -3.89631154e-01 -2.50416064e-01  8.88216069e-02\n",
      "   2.94697014e-01  7.07768799e-17]]\n"
     ]
    }
   ],
   "source": [
    "svd_emb = SVD_pmi(ppmi)"
   ]
  },
  {
   "cell_type": "code",
   "execution_count": 5,
   "metadata": {},
   "outputs": [],
   "source": [
    "import pandas as pd\n",
    "import glob"
   ]
  },
  {
   "cell_type": "code",
   "execution_count": 8,
   "metadata": {},
   "outputs": [],
   "source": [
    "path = r'/Users/hzx/Desktop/CMSC35300/Final Project/data/lyrics' # use your path\n",
    "all_files = glob.glob(path + \"/*.csv\")\n",
    "\n",
    "li = []\n",
    "\n",
    "for filename in all_files:\n",
    "    df = pd.read_csv(filename, index_col=0, header=0)\n",
    "    li.append(df)\n",
    "\n",
    "frame = pd.concat(li, axis=0, ignore_index=True)"
   ]
  },
  {
   "cell_type": "code",
   "execution_count": 61,
   "metadata": {},
   "outputs": [],
   "source": [
    "tokens = frame[['lyrics']].apply(tokenize_lyric)"
   ]
  },
  {
   "cell_type": "code",
   "execution_count": 74,
   "metadata": {},
   "outputs": [],
   "source": [
    "tokens_ = tokens.sample(n = 100)"
   ]
  },
  {
   "cell_type": "code",
   "execution_count": 75,
   "metadata": {},
   "outputs": [],
   "source": [
    "tokens_['sentence'] = tokens.lyrics.apply(combine_sentences)"
   ]
  },
  {
   "cell_type": "code",
   "execution_count": 76,
   "metadata": {},
   "outputs": [],
   "source": [
    "sentences = tokens_['sentence'].tolist()"
   ]
  },
  {
   "cell_type": "code",
   "execution_count": 81,
   "metadata": {},
   "outputs": [],
   "source": [
    "co_mat_lyrics, vocab_list_lyrics = get_co_mat(sentences)"
   ]
  },
  {
   "cell_type": "code",
   "execution_count": 82,
   "metadata": {},
   "outputs": [
    {
     "name": "stderr",
     "output_type": "stream",
     "text": [
      "/Users/hzx/Desktop/CMSC35300/Final Project/embedding.py:57: RuntimeWarning: invalid value encountered in true_divide\n",
      "  prob_cols_given_row = (arr.T / row_totals).T #prob one word (element of a col) given another word (row)\n",
      "/Users/hzx/Desktop/CMSC35300/Final Project/embedding.py:66: RuntimeWarning: invalid value encountered in true_divide\n",
      "  ratio = prob_cols_given_row / prob_of_cols\n"
     ]
    }
   ],
   "source": [
    "ppmi = pmi(co_mat_lyrics)"
   ]
  },
  {
   "cell_type": "code",
   "execution_count": 89,
   "metadata": {},
   "outputs": [],
   "source": [
    "ppmi = np.nan_to_num(ppmi)"
   ]
  },
  {
   "cell_type": "code",
   "execution_count": 90,
   "metadata": {},
   "outputs": [],
   "source": [
    "svd_ppmi = SVD_pmi(ppmi)"
   ]
  },
  {
   "cell_type": "code",
   "execution_count": null,
   "metadata": {},
   "outputs": [],
   "source": [
    "np.save(\"emb/ppmi_lyrics.npy\", ppmi)\n",
    "\n",
    "loaded_array = np.load(\"ppmi_lyrics.npy\")\n",
    "print(loaded_array)"
   ]
  },
  {
   "cell_type": "code",
   "execution_count": null,
   "metadata": {},
   "outputs": [],
   "source": [
    "np.save(\"emb/svd_ppmi_lyrics.npy\", svd_ppmi)\n",
    "\n",
    "loaded_array = np.load(\"svd_ppmi_lyrics.npy\")\n",
    "print(loaded_array)"
   ]
  },
  {
   "cell_type": "code",
   "execution_count": 85,
   "metadata": {},
   "outputs": [
    {
     "data": {
      "text/plain": [
       "(2716, 2716)"
      ]
     },
     "execution_count": 85,
     "metadata": {},
     "output_type": "execute_result"
    }
   ],
   "source": [
    "ppmi.shape"
   ]
  },
  {
   "cell_type": "code",
   "execution_count": 87,
   "metadata": {},
   "outputs": [
    {
     "data": {
      "text/plain": [
       "2716"
      ]
     },
     "execution_count": 87,
     "metadata": {},
     "output_type": "execute_result"
    }
   ],
   "source": [
    "len(vocab_list_lyrics)"
   ]
  },
  {
   "cell_type": "code",
   "execution_count": 92,
   "metadata": {},
   "outputs": [
    {
     "data": {
      "text/plain": [
       "(2716, 100)"
      ]
     },
     "execution_count": 92,
     "metadata": {},
     "output_type": "execute_result"
    }
   ],
   "source": [
    "svd_ppmi.shape"
   ]
  },
  {
   "cell_type": "code",
   "execution_count": null,
   "metadata": {},
   "outputs": [],
   "source": []
  }
 ],
 "metadata": {
  "kernelspec": {
   "display_name": "Python 3",
   "language": "python",
   "name": "python3"
  },
  "language_info": {
   "codemirror_mode": {
    "name": "ipython",
    "version": 3
   },
   "file_extension": ".py",
   "mimetype": "text/x-python",
   "name": "python",
   "nbconvert_exporter": "python",
   "pygments_lexer": "ipython3",
   "version": "3.8.5"
  }
 },
 "nbformat": 4,
 "nbformat_minor": 4
}
