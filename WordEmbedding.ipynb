{
 "cells": [
  {
   "cell_type": "code",
   "execution_count": 1,
   "metadata": {},
   "outputs": [],
   "source": [
    "%load_ext autoreload\n",
    "%autoreload 2"
   ]
  },
  {
   "cell_type": "code",
   "execution_count": 101,
   "metadata": {},
   "outputs": [],
   "source": [
    "from embedding import *\n",
    "from preprocessing import *"
   ]
  },
  {
   "cell_type": "code",
   "execution_count": 7,
   "metadata": {},
   "outputs": [],
   "source": [
    "corpus = ['jasmine is a good student', 'just kidding jasmine good is not', 'cashew is bad']"
   ]
  },
  {
   "cell_type": "code",
   "execution_count": 8,
   "metadata": {},
   "outputs": [],
   "source": [
    "co_mat = get_co_mat(corpus)"
   ]
  },
  {
   "cell_type": "code",
   "execution_count": 9,
   "metadata": {},
   "outputs": [],
   "source": [
    "ppmi = pmi(co_mat)"
   ]
  },
  {
   "cell_type": "code",
   "execution_count": 19,
   "metadata": {},
   "outputs": [
    {
     "data": {
      "text/plain": [
       "(10, 10)"
      ]
     },
     "execution_count": 19,
     "metadata": {},
     "output_type": "execute_result"
    }
   ],
   "source": [
    "ppmi.shape"
   ]
  },
  {
   "cell_type": "code",
   "execution_count": 38,
   "metadata": {},
   "outputs": [
    {
     "name": "stdout",
     "output_type": "stream",
     "text": [
      "[[ 7.62092343e-03  1.02626173e-01  4.92979635e-01 -1.77358928e-01\n",
      "   3.66167952e-01  3.63926376e-01  5.61323903e-01  7.90591660e-02\n",
      "  -3.56466587e-01 -7.30797603e-17]\n",
      " [ 6.91819979e-01 -3.49804547e-02 -1.86401944e-02 -6.24378894e-02\n",
      "  -4.94133069e-02 -1.79807716e-02 -3.14402756e-02  5.25321307e-02\n",
      "  -9.69661722e-02  7.07106781e-01]\n",
      " [ 6.91819979e-01 -3.49804547e-02 -1.86401944e-02 -6.24378894e-02\n",
      "  -4.94133069e-02 -1.79807716e-02 -3.14402756e-02  5.25321307e-02\n",
      "  -9.69661722e-02 -7.07106781e-01]\n",
      " [ 1.80739092e-02  1.16445791e-01  2.64835505e-01  2.46933046e-01\n",
      "  -4.12785077e-01  6.37356873e-01 -3.45484787e-01 -3.78977807e-01\n",
      "  -1.24099631e-01 -5.07954986e-17]\n",
      " [ 1.94502935e-01  1.65783125e-02  3.05397503e-02  2.02173854e-01\n",
      "   3.25456548e-01  1.57662583e-01  2.51425515e-01 -3.97848114e-01\n",
      "   7.53531325e-01  1.62518669e-16]\n",
      " [ 2.06962290e-02  3.09258703e-01 -2.37059548e-02 -3.01214506e-02\n",
      "   6.26352308e-01 -1.85657354e-01 -4.64746312e-01 -4.13394043e-01\n",
      "  -2.97979546e-01 -1.03383030e-16]\n",
      " [ 2.57880240e-02  7.15403397e-01 -1.75658579e-01 -4.80639145e-02\n",
      "   7.48172450e-02  2.89528725e-01 -1.52867125e-01  5.33946721e-01\n",
      "   2.37644522e-01  8.18521673e-17]\n",
      " [ 2.21828324e-02  5.87543288e-01 -1.08370828e-01  6.65303130e-03\n",
      "  -3.93594431e-01 -3.43067731e-01  4.41307249e-01 -3.97370786e-01\n",
      "  -1.31318820e-01 -4.33976309e-17]\n",
      " [ 5.32945716e-02  5.45062182e-02  1.85792662e-01  9.01250239e-01\n",
      "   9.87422993e-02 -2.19148949e-01  5.95498074e-02  2.54040436e-01\n",
      "  -1.46829249e-01 -2.31533374e-17]\n",
      " [ 1.13292010e-02  1.32533511e-01  7.79438636e-01 -2.08285709e-01\n",
      "  -1.48804385e-01 -3.89631154e-01 -2.50416064e-01  8.88216069e-02\n",
      "   2.94697014e-01  7.07768799e-17]]\n"
     ]
    }
   ],
   "source": [
    "svd_emb = SVD_pmi(ppmi)"
   ]
  },
  {
   "cell_type": "code",
   "execution_count": 5,
   "metadata": {},
   "outputs": [],
   "source": [
    "import pandas as pd\n",
    "import glob"
   ]
  },
  {
   "cell_type": "code",
   "execution_count": 8,
   "metadata": {},
   "outputs": [],
   "source": [
    "path = r'/Users/hzx/Desktop/CMSC35300/Final Project/data/lyrics' # use your path\n",
    "all_files = glob.glob(path + \"/*.csv\")\n",
    "\n",
    "li = []\n",
    "\n",
    "for filename in all_files:\n",
    "    df = pd.read_csv(filename, index_col=0, header=0)\n",
    "    li.append(df)\n",
    "\n",
    "frame = pd.concat(li, axis=0, ignore_index=True)"
   ]
  },
  {
   "cell_type": "code",
   "execution_count": 61,
   "metadata": {},
   "outputs": [],
   "source": [
    "tokens = frame[['lyrics']].apply(tokenize_lyric)"
   ]
  },
  {
   "cell_type": "code",
   "execution_count": 141,
   "metadata": {},
   "outputs": [],
   "source": [
    "tokens_ = tokens.sample(n = 1500)"
   ]
  },
  {
   "cell_type": "code",
   "execution_count": 142,
   "metadata": {},
   "outputs": [],
   "source": [
    "tokens_['sentence'] = tokens.lyrics.apply(combine_sentences)"
   ]
  },
  {
   "cell_type": "code",
   "execution_count": 143,
   "metadata": {},
   "outputs": [],
   "source": [
    "sentences = tokens_['sentence'].tolist()"
   ]
  },
  {
   "cell_type": "code",
   "execution_count": 150,
   "metadata": {},
   "outputs": [],
   "source": [
    "co_mat_lyrics, vocab_list_lyrics = get_co_mat(sentences)"
   ]
  },
  {
   "cell_type": "code",
   "execution_count": 151,
   "metadata": {},
   "outputs": [
    {
     "name": "stderr",
     "output_type": "stream",
     "text": [
      "/Users/hzx/Desktop/CMSC35300/Final Project/embedding.py:59: RuntimeWarning: invalid value encountered in true_divide\n",
      "  prob_cols_given_row = (arr.T / row_totals).T #prob one word (element of a col) given another word (row)\n",
      "/Users/hzx/Desktop/CMSC35300/Final Project/embedding.py:68: RuntimeWarning: invalid value encountered in true_divide\n",
      "  ratio = prob_cols_given_row / prob_of_cols\n"
     ]
    }
   ],
   "source": [
    "ppmi = pmi(co_mat_lyrics)"
   ]
  },
  {
   "cell_type": "code",
   "execution_count": 152,
   "metadata": {},
   "outputs": [],
   "source": [
    "ppmi = np.nan_to_num(ppmi)"
   ]
  },
  {
   "cell_type": "code",
   "execution_count": 153,
   "metadata": {},
   "outputs": [],
   "source": [
    "svd_ppmi = SVD_pmi(ppmi)"
   ]
  },
  {
   "cell_type": "code",
   "execution_count": 154,
   "metadata": {},
   "outputs": [
    {
     "name": "stdout",
     "output_type": "stream",
     "text": [
      "[[ 0.          0.          0.         ...  0.          0.\n",
      "   0.        ]\n",
      " [ 0.          0.          0.         ...  0.          0.\n",
      "   0.        ]\n",
      " [ 0.          0.          0.         ...  0.          0.\n",
      "   0.        ]\n",
      " ...\n",
      " [ 0.          0.          0.         ... 10.65425784  0.\n",
      "   0.        ]\n",
      " [ 0.          0.          0.         ...  0.         11.05972294\n",
      "  10.36657576]\n",
      " [ 0.          0.          0.         ...  0.         10.36657576\n",
      "  11.75287012]]\n"
     ]
    }
   ],
   "source": [
    "np.save(\"ppmi_lyrics_1500.npy\", ppmi)\n",
    "\n",
    "loaded_array = np.load(\"ppmi_lyrics_1500.npy\")\n",
    "print(loaded_array)"
   ]
  },
  {
   "cell_type": "code",
   "execution_count": 155,
   "metadata": {},
   "outputs": [
    {
     "name": "stdout",
     "output_type": "stream",
     "text": [
      "[[-1.32340642e-18  3.38457366e-15  3.67462717e-14 ... -5.55270316e-14\n",
      "   2.47805762e-15  1.00535303e-14]\n",
      " [-1.27678877e-19 -8.68693523e-16  2.65509059e-15 ... -2.26119816e-14\n",
      "  -2.58934609e-14  1.18160684e-14]\n",
      " [-5.55327798e-21 -1.37238442e-16  3.37653357e-17 ... -1.27550441e-15\n",
      "   4.04352429e-15  2.66146311e-16]\n",
      " ...\n",
      " [ 1.12226818e-02 -7.85092401e-03 -1.12756120e-04 ... -6.81623855e-04\n",
      "  -1.03374274e-02 -9.22718333e-03]\n",
      " [ 1.52353363e-02 -1.50532978e-02  1.16200327e-02 ...  9.93666512e-02\n",
      "   2.29885405e-01  1.27136460e-02]\n",
      " [ 1.41014720e-03  1.33655491e-03  2.81530359e-03 ...  4.46483905e-02\n",
      "   1.60376133e-01 -1.60851064e-02]]\n"
     ]
    }
   ],
   "source": [
    "np.save(\"svd_lyrics_1500.npy\", svd_ppmi)\n",
    "\n",
    "loaded_array = np.load(\"svd_lyrics_1500.npy\")\n",
    "print(loaded_array)"
   ]
  },
  {
   "cell_type": "code",
   "execution_count": 138,
   "metadata": {},
   "outputs": [],
   "source": [
    "love_ind = vocab_list_lyrics.index('love')"
   ]
  },
  {
   "cell_type": "code",
   "execution_count": 139,
   "metadata": {},
   "outputs": [
    {
     "data": {
      "text/plain": [
       "[(33.70992779805049, 'love'),\n",
       " (4.894462911323329, 'fourteen'),\n",
       " (4.767373013256151, 'itbut'),\n",
       " (4.711367774912279, 'itoh'),\n",
       " (4.574366183102715, 'malfunct'),\n",
       " (4.565452972528891, 'shoodoodoo'),\n",
       " (4.529565499540579, 'knowthan'),\n",
       " (4.528365084159783, 'purifi'),\n",
       " (4.460275030475437, 'shooshoodoodoo'),\n",
       " (4.250198327967095, 'scissor')]"
      ]
     },
     "execution_count": 139,
     "metadata": {},
     "output_type": "execute_result"
    }
   ],
   "source": [
    "ppmi_closest= closest(ppmi,love_ind, vocab_list_lyrics) #love\n",
    "ppmi_closest"
   ]
  },
  {
   "cell_type": "code",
   "execution_count": 147,
   "metadata": {},
   "outputs": [
    {
     "data": {
      "text/plain": [
       "[(0.8689302964072335, 'love'),\n",
       " (0.47461749962948235, 'itoh'),\n",
       " (0.47215271611938203, 'itbut'),\n",
       " (0.4626247947211002, 'you'),\n",
       " (0.3814959510684811, 'if'),\n",
       " (0.37235390853937, 'your'),\n",
       " (0.36806381916073116, 'stallin'),\n",
       " (0.3621439211423165, 'yayae'),\n",
       " (0.36136347034205574, 'i'),\n",
       " (0.36020407517527037, 'wont')]"
      ]
     },
     "execution_count": 147,
     "metadata": {},
     "output_type": "execute_result"
    }
   ],
   "source": [
    "svd_closest= closest(svd_ppmi,love_ind, vocab_list_lyrics) #love\n",
    "svd_closest"
   ]
  },
  {
   "cell_type": "code",
   "execution_count": 146,
   "metadata": {},
   "outputs": [
    {
     "data": {
      "text/plain": [
       "(10750, 100)"
      ]
     },
     "execution_count": 146,
     "metadata": {},
     "output_type": "execute_result"
    }
   ],
   "source": [
    "svd_ppmi.shape"
   ]
  },
  {
   "cell_type": "code",
   "execution_count": 157,
   "metadata": {},
   "outputs": [
    {
     "data": {
      "text/plain": [
       "12540"
      ]
     },
     "execution_count": 157,
     "metadata": {},
     "output_type": "execute_result"
    }
   ],
   "source": [
    "len(vocab_list_lyrics)"
   ]
  },
  {
   "cell_type": "code",
   "execution_count": 156,
   "metadata": {},
   "outputs": [],
   "source": [
    "import json\n",
    "with open(\"vocab_list_lyrics_1500.txt\", \"w\") as fp:\n",
    "    json.dump(vocab_list_lyrics, fp)"
   ]
  },
  {
   "cell_type": "code",
   "execution_count": null,
   "metadata": {},
   "outputs": [],
   "source": []
  }
 ],
 "metadata": {
  "kernelspec": {
   "display_name": "Python 3",
   "language": "python",
   "name": "python3"
  },
  "language_info": {
   "codemirror_mode": {
    "name": "ipython",
    "version": 3
   },
   "file_extension": ".py",
   "mimetype": "text/x-python",
   "name": "python",
   "nbconvert_exporter": "python",
   "pygments_lexer": "ipython3",
   "version": "3.8.5"
  }
 },
 "nbformat": 4,
 "nbformat_minor": 4
}
